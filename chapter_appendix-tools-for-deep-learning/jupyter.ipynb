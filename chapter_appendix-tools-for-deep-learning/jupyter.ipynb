{
  "cells": [
    {
      "cell_type": "markdown",
      "source": [
        "COVARIENCE"
      ],
      "metadata": {
        "id": "aTxTFr4G9nZH"
      },
      "id": "aTxTFr4G9nZH"
    },
    {
      "cell_type": "markdown",
      "source": [
        "![image.png](data:image/png;base64,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)"
      ],
      "metadata": {
        "id": "itRrNGRt9sig"
      },
      "id": "itRrNGRt9sig"
    },
    {
      "cell_type": "code",
      "source": [
        "hours_studied = [2,4,6,8,10]\n",
        "exam_scores = [50,60,70,80,90]"
      ],
      "metadata": {
        "id": "gx7-qUyd6-uz"
      },
      "id": "gx7-qUyd6-uz",
      "execution_count": 25,
      "outputs": []
    },
    {
      "cell_type": "code",
      "source": [
        "#step1 :calculate the mean of both lists\n",
        "mean_hours = sum(hours_studied)/len(hours_studied)\n",
        "mean_scores = sum(exam_scores)/len(exam_scores )\n",
        "print(mean_hours)\n",
        "print(mean_scores)"
      ],
      "metadata": {
        "id": "Q0hkPmK17LiA",
        "outputId": "d23c9384-6da5-4812-bab5-47bb76a533e1",
        "colab": {
          "base_uri": "https://localhost:8080/"
        }
      },
      "id": "Q0hkPmK17LiA",
      "execution_count": 26,
      "outputs": [
        {
          "output_type": "stream",
          "name": "stdout",
          "text": [
            "6.0\n",
            "70.0\n"
          ]
        }
      ]
    },
    {
      "cell_type": "code",
      "source": [
        "#step2:calculate the diffrence from mean for each value/data point\n",
        "diff_hours = [x-mean_hours for x in hours_studied]\n",
        "diff_scores = [y-mean_scores for y in exam_scores]\n",
        "print(diff_hours)\n",
        "print(diff_scores)"
      ],
      "metadata": {
        "id": "OO2u3Kxq7YxD",
        "outputId": "2540d7be-7af4-446d-ac18-a5bd99bd85f1",
        "colab": {
          "base_uri": "https://localhost:8080/"
        }
      },
      "id": "OO2u3Kxq7YxD",
      "execution_count": 27,
      "outputs": [
        {
          "output_type": "stream",
          "name": "stdout",
          "text": [
            "[-4.0, -2.0, 0.0, 2.0, 4.0]\n",
            "[-20.0, -10.0, 0.0, 10.0, 20.0]\n"
          ]
        }
      ]
    },
    {
      "cell_type": "code",
      "source": [
        "#step3 : multiply the diffrence for corresponding data point\n",
        "prod_diff=[diff_hours[i]*diff_scores[i] for i in range(len(diff_hours))]\n",
        "print(prod_diff)"
      ],
      "metadata": {
        "id": "6GcejCuh7oDI",
        "outputId": "7aaf2493-29fb-4b35-841d-5d0437e14126",
        "colab": {
          "base_uri": "https://localhost:8080/"
        }
      },
      "id": "6GcejCuh7oDI",
      "execution_count": 28,
      "outputs": [
        {
          "output_type": "stream",
          "name": "stdout",
          "text": [
            "[80.0, 20.0, 0.0, 20.0, 80.0]\n"
          ]
        }
      ]
    },
    {
      "cell_type": "code",
      "source": [
        "#step4:sum of products\n",
        "sum_prod_diff = sum(prod_diff)\n",
        "print(sum_prod_diff)"
      ],
      "metadata": {
        "id": "cKdSxjHc7_1n",
        "outputId": "d3497d4d-2263-46c7-c29f-528966f76f3f",
        "colab": {
          "base_uri": "https://localhost:8080/"
        }
      },
      "id": "cKdSxjHc7_1n",
      "execution_count": 29,
      "outputs": [
        {
          "output_type": "stream",
          "name": "stdout",
          "text": [
            "200.0\n"
          ]
        }
      ]
    },
    {
      "cell_type": "code",
      "source": [
        "#step5:divide by th number of data point minus 1(n-1)\n",
        "covariance = sum_prod_diff/(len(hours_studied)-1)"
      ],
      "metadata": {
        "id": "ASE14MnJ8GRr"
      },
      "id": "ASE14MnJ8GRr",
      "execution_count": 30,
      "outputs": []
    },
    {
      "cell_type": "code",
      "source": [
        "#output the covairance is\n",
        "print(\"Covarience between hours studied and exam score:\",covariance)"
      ],
      "metadata": {
        "id": "o3paIJy08VNO",
        "outputId": "e36c8fa4-64d6-4932-c0e0-a5efd3c7d6c1",
        "colab": {
          "base_uri": "https://localhost:8080/"
        }
      },
      "id": "o3paIJy08VNO",
      "execution_count": 31,
      "outputs": [
        {
          "output_type": "stream",
          "name": "stdout",
          "text": [
            "Covarience between hours studied and exam score: 50.0\n"
          ]
        }
      ]
    },
    {
      "cell_type": "markdown",
      "source": [
        "CALCULATE THE COVARIANCE MATRIX\"HOURS STUDIED \" AND \"EXAM SCORES\""
      ],
      "metadata": {
        "id": "bEiaJMpYBFjq"
      },
      "id": "bEiaJMpYBFjq"
    },
    {
      "cell_type": "code",
      "source": [
        "import numpy as np\n",
        "import matplotlib.pyplot as plt\n",
        "import pandas as pd"
      ],
      "metadata": {
        "id": "9rnOD49IBO0e"
      },
      "id": "9rnOD49IBO0e",
      "execution_count": 32,
      "outputs": []
    },
    {
      "cell_type": "code",
      "source": [
        "hours_studied = [2,4,6,8,10]\n",
        "exam_scores = [50,60,70,80,90]"
      ],
      "metadata": {
        "id": "8YSFw1udBbCR"
      },
      "id": "8YSFw1udBbCR",
      "execution_count": 33,
      "outputs": []
    },
    {
      "cell_type": "code",
      "source": [
        "# stack the data into a 2D array (each row is a data point,each column is a variable)\n",
        "data = np.array([hours_studied,exam_scores])\n",
        "print(data)\n",
        "#calculate the covariance matrix using numpy's cov function\n",
        "cov_matrix = np.cov(data)"
      ],
      "metadata": {
        "id": "1zq-L4BWBeHC",
        "outputId": "9a22e958-db4c-4fba-b4e3-52bb1a48cfd8",
        "colab": {
          "base_uri": "https://localhost:8080/"
        }
      },
      "id": "1zq-L4BWBeHC",
      "execution_count": 34,
      "outputs": [
        {
          "output_type": "stream",
          "name": "stdout",
          "text": [
            "[[ 2  4  6  8 10]\n",
            " [50 60 70 80 90]]\n"
          ]
        }
      ]
    },
    {
      "cell_type": "code",
      "source": [
        "#print the matrix\n",
        "print (\"Covariance Matrix:\\n\",cov_matrix)"
      ],
      "metadata": {
        "id": "kiXVBlWeCYBf",
        "outputId": "d983a9e8-f2c7-4a99-c759-ba1182f0e2d3",
        "colab": {
          "base_uri": "https://localhost:8080/"
        }
      },
      "id": "kiXVBlWeCYBf",
      "execution_count": 36,
      "outputs": [
        {
          "output_type": "stream",
          "name": "stdout",
          "text": [
            "Covariance Matrix:\n",
            " [[ 10.  50.]\n",
            " [ 50. 250.]]\n"
          ]
        }
      ]
    }
  ],
  "metadata": {
    "kernelspec": {
      "display_name": "Python 3",
      "name": "python3"
    },
    "language_info": {
      "name": "python"
    },
    "required_libs": [],
    "colab": {
      "provenance": []
    }
  },
  "nbformat": 4,
  "nbformat_minor": 5
}